{
 "cells": [
  {
   "cell_type": "code",
   "execution_count": 44,
   "metadata": {},
   "outputs": [],
   "source": [
    "# Import libraries\n",
    "# Main libraries \n",
    "import numpy as np\n",
    "import pandas as pd\n",
    "\n",
    "#Outliers\n",
    "from scipy import stats\n",
    "from dfcols import all_square_cols\n",
    "\n",
    "# Balancing Libraries\n",
    "import imblearn\n",
    "from imblearn.over_sampling import SMOTE\n",
    "\n",
    "#Models\n",
    "from sklearn.ensemble import RandomForestClassifier\n",
    "\n",
    "#Testing\n",
    "from sklearn.metrics import f1_score"
   ]
  },
  {
   "cell_type": "code",
   "execution_count": 45,
   "metadata": {},
   "outputs": [],
   "source": [
    "# Read files to pandas dataframes\n",
    "train = pd.read_csv('data/Train.csv')\n",
    "test = pd.read_csv('data/Test.csv')\n",
    "sample_submission = pd.read_csv('data/SampleSubmission.csv')"
   ]
  },
  {
   "cell_type": "code",
   "execution_count": 46,
   "metadata": {},
   "outputs": [],
   "source": [
    "#Split train-test\n",
    "Xtr = train.head(8000)\n",
    "Xte = train.tail(2863)\n",
    "test_in = Xte.drop(columns=['Sample_ID','Label'])\n",
    "test_res = Xte[[\"Label\"]]"
   ]
  },
  {
   "cell_type": "code",
   "execution_count": 47,
   "metadata": {},
   "outputs": [],
   "source": [
    "#Feature Transformation"
   ]
  },
  {
   "cell_type": "code",
   "execution_count": 48,
   "metadata": {},
   "outputs": [],
   "source": [
    "#Outlier \n",
    "# Mean replacement of outliers\n",
    "outlierAttributes = all_square_cols(\"elevation\") + all_square_cols(\"slope\") + all_square_cols(\"placurv\") + all_square_cols(\"procurv\") + all_square_cols(\"lsfactor\")\n",
    "Xtr = Xtr.copy(deep=True)\n",
    "for column in Xtr:\n",
    "    if (column in outlierAttributes):\n",
    "        curcol = train[column]\n",
    "        mean = curcol[np.abs(stats.zscore(curcol)) < 3].mean()\n",
    "        Xtr.loc[np.abs(stats.zscore(curcol)) >= 3, column] = np.nan\n",
    "        Xtr.fillna(mean, inplace=True)"
   ]
  },
  {
   "cell_type": "code",
   "execution_count": 49,
   "metadata": {},
   "outputs": [],
   "source": [
    "#Balacing\n",
    "oversample = SMOTE()\n",
    "XtB, ytB = oversample.fit_resample(Xtr.drop(columns=['Sample_ID','Label']), Xtr[['Label']])"
   ]
  },
  {
   "cell_type": "code",
   "execution_count": 50,
   "metadata": {},
   "outputs": [
    {
     "name": "stderr",
     "output_type": "stream",
     "text": [
      "/var/folders/sd/r6t7q4t94y9gwkp7d5f63czh0000gn/T/ipykernel_73312/1390081265.py:2: DataConversionWarning: A column-vector y was passed when a 1d array was expected. Please change the shape of y to (n_samples,), for example using ravel().\n",
      "  clf = RandomForestClassifier().fit(XtB,ytB)\n"
     ]
    },
    {
     "name": "stdout",
     "output_type": "stream",
     "text": [
      "0.6535764375876578\n"
     ]
    }
   ],
   "source": [
    "#Model Training + prediction\n",
    "clf = RandomForestClassifier().fit(XtB,ytB)\n",
    "y_pred = clf.predict(test_in)\n",
    "f1 = f1_score(y_pred,test_res)\n",
    "print(f1)"
   ]
  },
  {
   "cell_type": "markdown",
   "metadata": {},
   "source": [
    "# Test results\n",
    "Splt Feature-Transformation Outlier-Method Balancing Model Training Score\n",
    "70:30 None Mean-Method SMOTE RandomForests 0.6535\n",
    "70:30 None None SMOTE RandomForests 0.6535"
   ]
  },
  {
   "cell_type": "markdown",
   "metadata": {},
   "source": []
  }
 ],
 "metadata": {
  "interpreter": {
   "hash": "c7f464d501dff281439f92f8f4b3befaa8a194d97cbe10a717b04f6db4f461c6"
  },
  "kernelspec": {
   "display_name": "Python 3.9.7 ('StartHack')",
   "language": "python",
   "name": "python3"
  },
  "language_info": {
   "codemirror_mode": {
    "name": "ipython",
    "version": 3
   },
   "file_extension": ".py",
   "mimetype": "text/x-python",
   "name": "python",
   "nbconvert_exporter": "python",
   "pygments_lexer": "ipython3",
   "version": "3.9.7"
  },
  "orig_nbformat": 4
 },
 "nbformat": 4,
 "nbformat_minor": 2
}
