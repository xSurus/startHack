{
 "cells": [
  {
   "cell_type": "code",
   "execution_count": 81,
   "metadata": {},
   "outputs": [],
   "source": [
    "# Import libraries\n",
    "# Main libraries \n",
    "import numpy as np\n",
    "import pandas as pd\n",
    "\n",
    "#Outliers\n",
    "from scipy import stats\n",
    "from dfcols import all_square_cols\n",
    "\n",
    "#Feature Engineering\n",
    "from sklearn.feature_selection import SelectFromModel\n",
    "# Balancing Libraries\n",
    "import imblearn\n",
    "from imblearn.over_sampling import SMOTE\n",
    "\n",
    "#Models\n",
    "from sklearn.ensemble import RandomForestClassifier\n",
    "from sklearn.linear_model import LogisticRegression\n",
    "from catboost import CatBoostClassifier\n",
    "from sklearn.neural_network import MLPClassifier\n",
    "\n",
    "#Testing\n",
    "from sklearn.metrics import f1_score"
   ]
  },
  {
   "cell_type": "code",
   "execution_count": 82,
   "metadata": {},
   "outputs": [],
   "source": [
    "# Read files to pandas dataframes\n",
    "train = pd.read_csv('data/Train.csv')\n",
    "test = pd.read_csv('data/Test.csv')\n",
    "sample_submission = pd.read_csv('data/SampleSubmission.csv')\n"
   ]
  },
  {
   "cell_type": "code",
   "execution_count": 83,
   "metadata": {},
   "outputs": [],
   "source": [
    "#Outlier \n",
    "#Mean replacement of outliers\n",
    "# outlierAttributes = all_square_cols(\"elevation\") + all_square_cols(\"slope\") + all_square_cols(\"placurv\") + all_square_cols(\"procurv\") + all_square_cols(\"lsfactor\")\n",
    "# Xtr = Xtr.copy(deep=True)\n",
    "# for column in Xtr:\n",
    "#     if (column in outlierAttributes):\n",
    "#         curcol = train[column]\n",
    "#         mean = curcol[np.abs(stats.zscore(curcol)) < 3].mean()\n",
    "#         Xtr.loc[np.abs(stats.zscore(curcol)) >= 3, column] = np.nan\n",
    "#         Xtr.fillna(mean, inplace=True)"
   ]
  },
  {
   "cell_type": "code",
   "execution_count": 84,
   "metadata": {},
   "outputs": [],
   "source": [
    "\n",
    "#Feature Transformation\n",
    "# elevationCols = all_square_cols(\"slope\")\n",
    "\n",
    "# elevationCols = train[elevationCols]\n",
    "\n",
    "# for col in elevationCols:\n",
    "#     curCol = elevationCols[col]\n",
    "#     elevationCols[col] = pd.cut(curCol, [0,5,22,34,55,100], labels=[0,1,2,3,4]) # here\n",
    "\n",
    "# train_binning = train.replace(elevationCols)\n",
    "# train_binning.describe(include = 'all')\n",
    "#Select"
   ]
  },
  {
   "cell_type": "code",
   "execution_count": 85,
   "metadata": {},
   "outputs": [],
   "source": [
    "#Split train-test\n",
    "Xtr = train.head(8000)\n",
    "Xte = train.tail(2863)\n",
    "test_in = Xte.drop(columns=['Sample_ID','Label'])\n",
    "test_res = Xte[[\"Label\"]]"
   ]
  },
  {
   "cell_type": "code",
   "execution_count": 86,
   "metadata": {},
   "outputs": [],
   "source": [
    "#Balacing\n",
    "oversample = SMOTE()\n",
    "XtB, ytB = oversample.fit_resample(Xtr.drop(columns=['Sample_ID','Label']), Xtr[['Label']])"
   ]
  },
  {
   "cell_type": "code",
   "execution_count": 87,
   "metadata": {},
   "outputs": [
    {
     "name": "stderr",
     "output_type": "stream",
     "text": [
      "/Applications/anaconda3/envs/StartHack/lib/python3.9/site-packages/sklearn/neural_network/_multilayer_perceptron.py:1109: DataConversionWarning: A column-vector y was passed when a 1d array was expected. Please change the shape of y to (n_samples, ), for example using ravel().\n",
      "  y = column_or_1d(y, warn=True)\n"
     ]
    },
    {
     "name": "stdout",
     "output_type": "stream",
     "text": [
      "0.5850340136054422\n"
     ]
    },
    {
     "name": "stderr",
     "output_type": "stream",
     "text": [
      "/Applications/anaconda3/envs/StartHack/lib/python3.9/site-packages/sklearn/neural_network/_multilayer_perceptron.py:549: ConvergenceWarning: lbfgs failed to converge (status=1):\n",
      "STOP: TOTAL NO. of ITERATIONS REACHED LIMIT.\n",
      "\n",
      "Increase the number of iterations (max_iter) or scale the data as shown in:\n",
      "    https://scikit-learn.org/stable/modules/preprocessing.html\n",
      "  self.n_iter_ = _check_optimize_result(\"lbfgs\", opt_res, self.max_iter)\n"
     ]
    }
   ],
   "source": [
    "#Model Training + prediction\n",
    "clf = MLPClassifier(solver='lbfgs', alpha=1e-5, hidden_layer_sizes=(150,100,75,50), random_state=1).fit(XtB,ytB)\n",
    "y_pred = clf.predict(test_in)\n",
    "f1 = f1_score(y_pred,test_res)\n",
    "print(f1)"
   ]
  },
  {
   "cell_type": "code",
   "execution_count": 88,
   "metadata": {},
   "outputs": [],
   "source": [
    "y_pred = clf.predict(test.drop(columns=['Sample_ID']))\n",
    "out = test['Sample_ID']\n",
    "out = pd.DataFrame({'Sample_ID':test.Sample_ID,'Label':y_pred})\n",
    "#out.to_csv('pred1Le.csv',index=False)"
   ]
  },
  {
   "cell_type": "code",
   "execution_count": null,
   "metadata": {},
   "outputs": [],
   "source": []
  },
  {
   "cell_type": "markdown",
   "metadata": {},
   "source": [
    "# Test results\n",
    "Splt Feature-Transformation Outlier-Method Balancing Model Training Score\n",
    "70:30 None Mean-Method SMOTE RandomForests 0.6535\n",
    "70:30 None None SMOTE RandomForests 0.6535"
   ]
  },
  {
   "cell_type": "markdown",
   "metadata": {},
   "source": []
  }
 ],
 "metadata": {
  "interpreter": {
   "hash": "c7f464d501dff281439f92f8f4b3befaa8a194d97cbe10a717b04f6db4f461c6"
  },
  "kernelspec": {
   "display_name": "Python 3.9.7 ('StartHack')",
   "language": "python",
   "name": "python3"
  },
  "language_info": {
   "codemirror_mode": {
    "name": "ipython",
    "version": 3
   },
   "file_extension": ".py",
   "mimetype": "text/x-python",
   "name": "python",
   "nbconvert_exporter": "python",
   "pygments_lexer": "ipython3",
   "version": "3.9.7"
  },
  "orig_nbformat": 4
 },
 "nbformat": 4,
 "nbformat_minor": 2
}
