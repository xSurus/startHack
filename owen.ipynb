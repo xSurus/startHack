{
 "cells": [
  {
   "cell_type": "markdown",
   "metadata": {
    "id": "Iw1CW2h6tO8t"
   },
   "source": [
    "<figure>\n",
    "<img src = \"https://drive.google.com/uc?export=view&id=1T_XBSH6ozmhGiDz_nL4bQvvonHUpbCfW\" height = \"200\">\n",
    "<img src = \"https://drive.google.com/uc?export=view&id=13nSrrIowiFPjAgiR--Nd4cHLVwvXFaFj\" height = \"400\">"
   ]
  },
  {
   "cell_type": "code",
   "execution_count": 38,
   "metadata": {
    "id": "zypiTlARtO8v"
   },
   "outputs": [],
   "source": [
    "# Import libraries\n",
    "import pandas as pd\n",
    "from sklearn.metrics import f1_score\n",
    "from sklearn.model_selection import train_test_split\n",
    "import matplotlib.pyplot as plt\n",
    "from sklearn.ensemble import StackingClassifier\n",
    "from sklearn.metrics import classification_report,confusion_matrix, ConfusionMatrixDisplay\n",
    "from sklearn.ensemble import ExtraTreesClassifier\n",
    "from sklearn.neighbors import KNeighborsClassifier\n",
    "from sklearn.datasets import load_iris\n",
    "from sklearn.ensemble import RandomForestClassifier\n",
    "from sklearn.svm import LinearSVC\n",
    "from sklearn.linear_model import LogisticRegression\n",
    "from sklearn.preprocessing import StandardScaler\n",
    "from sklearn.pipeline import make_pipeline\n",
    "from sklearn.ensemble import StackingClassifier\n",
    "from sklearn.linear_model import SGDClassifier\n",
    "from sklearn.svm import SVC\n",
    "import dfcols\n",
    "pd.set_option('display.max_columns', None)\n",
    "import warnings\n",
    "warnings.filterwarnings('ignore')\n",
    "from collections import Counter\n",
    "from sklearn.datasets import make_classification\n",
    "from matplotlib import pyplot\n",
    "from numpy import where\n",
    "# from imblearn.over_sampling import SMOTE\n",
    "# import feat_trans"
   ]
  },
  {
   "cell_type": "markdown",
   "metadata": {
    "id": "EoZdjePxtO8x"
   },
   "source": [
    "## Reading in file"
   ]
  },
  {
   "cell_type": "code",
   "execution_count": 39,
   "metadata": {
    "id": "NSM32UTptO8y"
   },
   "outputs": [],
   "source": [
    "# Read files to pandas dataframes\n",
    "train = pd.read_csv('data/Train.csv')\n",
    "test = pd.read_csv('data/Test.csv')\n",
    "sample_submission = pd.read_csv('data/SampleSubmission.csv')"
   ]
  },
  {
   "cell_type": "markdown",
   "metadata": {
    "id": "7j-KUYA4tO8z"
   },
   "source": [
    "## Manipulating data and pre-processing"
   ]
  },
  {
   "cell_type": "code",
   "execution_count": 40,
   "metadata": {
    "id": "zg44M9whtO8z"
   },
   "outputs": [],
   "source": [
    "from dfcols import all_square_cols\n",
    "\n",
    "main_cols = train.columns.difference(['Sample_ID', 'Label'])\n",
    "elevationCols = all_square_cols(\"slope\")\n",
    "\n",
    "elevationCols = train[elevationCols]\n",
    "\n",
    "for col in elevationCols:\n",
    "    curCol = elevationCols[col]\n",
    "    elevationCols[col] = pd.cut(curCol, [0,5,22,34,55,100], labels=[0,1,2,3,4])\n",
    "\n",
    "train = train.replace(elevationCols)\n",
    "\n",
    "noSlide = train['Label'] == True\n",
    "train_try = train[noSlide]\n",
    "train = train.append([train_try]*3, ignore_index=True)\n",
    "\n",
    "X = train[main_cols]\n",
    "y = train.Label\n",
    "# X, y = SMOTE().fit_resample(X, y)\n",
    "X_train, X_test, y_train, y_test = train_test_split(X,y,test_size=0.3, random_state=2022)\n"
   ]
  },
  {
   "cell_type": "markdown",
   "metadata": {
    "id": "0CKuAVK0tO80"
   },
   "source": [
    "# Actually training the model on the data\n",
    "## Defining our models"
   ]
  },
  {
   "cell_type": "code",
   "execution_count": 41,
   "metadata": {
    "id": "PoaBuxFOtO81"
   },
   "outputs": [],
   "source": [
    "estimators = [\n",
    "    ('rf', RandomForestClassifier(n_estimators=500, random_state=42)),\n",
    "    ('svr', make_pipeline(StandardScaler(),\n",
    "                          SVC(gamma='auto', random_state=42)))\n",
    "]\n",
    "# Train model\n",
    "model = StackingClassifier(\n",
    "    estimators=estimators, final_estimator=LogisticRegression()\n",
    ")"
   ]
  },
  {
   "cell_type": "markdown",
   "metadata": {
    "id": "o3zo7XrWtO82"
   },
   "source": [
    "## Training the model"
   ]
  },
  {
   "cell_type": "code",
   "execution_count": 42,
   "metadata": {
    "id": "hwOBx9zFtO83",
    "outputId": "c7599c3d-0c60-49a4-a01d-627374b93088"
   },
   "outputs": [
    {
     "name": "stdout",
     "output_type": "stream",
     "text": [
      "RandomForest F1 score on the X_test is: 0.9488591660110148\n",
      "\n"
     ]
    }
   ],
   "source": [
    "model.fit(X_train, y_train)\n",
    "\n",
    "# Make predictions\n",
    "y_pred = model.predict(X_test)\n",
    "\n",
    "# Check the auc score of the model\n",
    "print(f'RandomForest F1 score on the X_test is: {f1_score(y_test, y_pred)}\\n')"
   ]
  },
  {
   "cell_type": "markdown",
   "metadata": {
    "id": "thU0I8AqtO84"
   },
   "source": [
    "## Outputting to file"
   ]
  },
  {
   "cell_type": "code",
   "execution_count": 43,
   "metadata": {
    "id": "9GkpMqDptO85"
   },
   "outputs": [],
   "source": [
    "test_df = test[main_cols]\n",
    "predictions = model.predict(test_df)\n",
    "\n",
    "# Create a submission file\n",
    "sub_file = pd.DataFrame({'Sample_ID': test.Sample_ID, 'Label': predictions})\n",
    "sub_file.to_csv('Baseline.csv', index = False)"
   ]
  },
  {
   "cell_type": "markdown",
   "metadata": {
    "id": "50Qrnl-OtO85"
   },
   "source": [
    "## Analytics"
   ]
  },
  {
   "cell_type": "code",
   "execution_count": 44,
   "metadata": {
    "id": "f-ef7tdCtO86",
    "outputId": "7e88fb3a-d1ea-4ce8-9ddf-8eb46245e049"
   },
   "outputs": [
    {
     "data": {
      "image/png": "[encoded data removed]",
      "text/plain": [
       "<Figure size 1080x504 with 2 Axes>"
      ]
     },
     "metadata": {
      "needs_background": "light"
     },
     "output_type": "display_data"
    }
   ],
   "source": [
    "cm = confusion_matrix(y_test, y_pred, labels=model.classes_)\n",
    "disp = ConfusionMatrixDisplay(confusion_matrix=cm, display_labels=model.classes_)\n",
    "fig, ax = plt.subplots(figsize=(15,7))\n",
    "disp.plot(ax=ax)\n",
    "plt.show()"
   ]
  }
 ],
 "metadata": {
  "interpreter": {
   "hash": "d45c69946a8145545b0e9f8330fa051aad5a282ad8beefc5f100c83ec9a67153"
  },
  "kernelspec": {
   "display_name": "Python 3.9.7 ('base')",
   "language": "python",
   "name": "python3"
  },
  "language_info": {
   "codemirror_mode": {
    "name": "ipython",
    "version": 3
   },
   "file_extension": ".py",
   "mimetype": "text/x-python",
   "name": "python",
   "nbconvert_exporter": "python",
   "pygments_lexer": "ipython3",
   "version": "3.9.7"
  },
  "orig_nbformat": 4
 },
 "nbformat": 4,
 "nbformat_minor": 2
}
