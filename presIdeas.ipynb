{
 "cells": [
  {
   "cell_type": "markdown",
   "metadata": {},
   "source": [
    "https://www.sciencedirect.com/science/article/pii/S1674987120300542\n",
    "\n",
    "- digital terrain model (DTM) is a 3D computer graphics representation of elevation data to represent terrain\n",
    "- digital surface model (DSM) for landscape modeling, visualization applications, DTM for flood/drainage modeling\n",
    "- surface model with surface (plants, buildings, etc.), DTM only ground service without objects\n",
    "- data gained from remote sensing\n",
    "- Hence, in the data collection step, three important types of data should be considered: DTMs, geology maps, and rainfall-related data.\n",
    "\n",
    "# plan\n",
    "\n",
    "### Main goal\n",
    "we have a model, which is proven to work. we want to save lives by implementing the same system in landslide affected areas, we need to present a conrete plan (maybe philippines, similar climate)\n",
    "\n",
    "#### case study\n",
    "- show that it can be easily implemented in other areas (concrete drone example, DSM, DTM)\n",
    "- show some attributes contribute more to prediction (maybe show we can infer some attributes, dont need all for an accurate prediction)\n",
    "- business plan, maybe expand to other parts, main motivation is saving lives"
   ]
  }
 ],
 "metadata": {
  "language_info": {
   "name": "python"
  },
  "orig_nbformat": 4
 },
 "nbformat": 4,
 "nbformat_minor": 2
}
