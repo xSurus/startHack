{
 "cells": [
  {
   "cell_type": "markdown",
   "metadata": {},
   "source": [
    "# Handle outliers\n",
    "\n",
    " Elevation, IsFactor, Placurv, curve and slope have some outliers.\n",
    " The aspect feature has no outliers.\n",
    " \n",
    " Some of the techniques you can use to handle outliers include:\n",
    "  1. Log transformations, scaling, box-cox transformations...\n",
    "  2. Dropping the outliers\n",
    "  3. Replacing the outliers with mean, median, mode or any other aggregates\n",
    "\n",
    "## 1. log transformations (scrapped)\n",
    "\n",
    "The important caveat here is that the original data has to follow or approximately follow a log-normal distribution. Otherwise, the log transformation won’t work.\n",
    "\n",
    "## 2. Dropping outliers"
   ]
  },
  {
   "cell_type": "code",
   "execution_count": 33,
   "metadata": {},
   "outputs": [],
   "source": [
    "from scipy import stats\n",
    "import numpy as np\n",
    "import pandas as pd\n",
    "from dfcols import all_square_cols\n",
    "\n",
    "train = pd.read_csv('./data/Train.csv')\n",
    "test = pd.read_csv('./data/Test.csv')\n",
    "sample_submission = pd.read_csv('./data/SampleSubmission.csv')\n",
    "\n",
    "train = train[(np.abs(stats.zscore(train)) < 3).all(axis=1)]\n",
    "\n",
    "# outlierAttributes = all_square_cols(\"elevation\") + all_square_cols(\"slope\") + all_square_cols(\"placurv\") + all_square_cols(\"procurv\") + all_square_cols(\"lsfactor\")\n",
    "# X = train[outlierAttributes]\n",
    "\n",
    "# X = X[(np.abs(stats.zscore(X)) < 3).all(axis=1)]\n",
    "\n",
    "# X.describe()\n",
    "\n",
    "# train.update(X)\n",
    "\n",
    "\n"
   ]
  }
 ],
 "metadata": {
  "interpreter": {
   "hash": "d45c69946a8145545b0e9f8330fa051aad5a282ad8beefc5f100c83ec9a67153"
  },
  "kernelspec": {
   "display_name": "Python 3.9.7 ('base')",
   "language": "python",
   "name": "python3"
  },
  "language_info": {
   "codemirror_mode": {
    "name": "ipython",
    "version": 3
   },
   "file_extension": ".py",
   "mimetype": "text/x-python",
   "name": "python",
   "nbconvert_exporter": "python",
   "pygments_lexer": "ipython3",
   "version": "3.9.7"
  },
  "orig_nbformat": 4
 },
 "nbformat": 4,
 "nbformat_minor": 2
}
