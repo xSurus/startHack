{
 "cells": [
  {
   "cell_type": "markdown",
   "metadata": {},
   "source": [
    "<figure>\n",
    "<img src = \"https://drive.google.com/uc?export=view&id=1T_XBSH6ozmhGiDz_nL4bQvvonHUpbCfW\" height = \"200\">\n",
    "<img src = \"https://drive.google.com/uc?export=view&id=13nSrrIowiFPjAgiR--Nd4cHLVwvXFaFj\" height = \"400\">"
   ]
  },
  {
   "cell_type": "code",
<<<<<<< HEAD
   "execution_count": 109,
=======
<<<<<<< HEAD
<<<<<<< HEAD
   "execution_count": 1,
=======
   "execution_count": 6,
>>>>>>> ae2f8bb76949a0b1d802326d984731d81a97405a
=======
   "execution_count": 22,
>>>>>>> bf55489a6604d699e9700eb45588a20b6d9a32b8
>>>>>>> 13b4ffbe9413ae5fd5239bce0bc72c313d1f5464
   "metadata": {},
   "outputs": [],
   "source": [
    "# Import libraries\n",
    "import pandas as pd\n",
    "from sklearn.metrics import f1_score\n",
    "from sklearn.model_selection import train_test_split\n",
    "import matplotlib.pyplot as plt\n",
    "from sklearn.ensemble import StackingClassifier\n",
    "from sklearn.metrics import classification_report,confusion_matrix, ConfusionMatrixDisplay\n",
    "from sklearn.ensemble import ExtraTreesClassifier\n",
    "from sklearn.neighbors import KNeighborsClassifier\n",
    "from sklearn.datasets import load_iris\n",
    "from sklearn.ensemble import RandomForestClassifier\n",
    "from sklearn.svm import LinearSVC\n",
    "from sklearn.linear_model import LogisticRegression\n",
    "from sklearn.preprocessing import StandardScaler\n",
    "from sklearn.pipeline import make_pipeline\n",
    "from sklearn.ensemble import StackingClassifier\n",
    "from sklearn.linear_model import SGDClassifier\n",
    "from sklearn.svm import SVC\n",
    "from scipy import stats\n",
    "import numpy as np\n",
    "import pandas as pd\n",
    "from dfcols import all_square_cols\n",
    "pd.set_option('display.max_columns', None)\n",
    "import warnings\n",
    "warnings.filterwarnings('ignore')\n",
    "from collections import Counter\n",
    "from sklearn.datasets import make_classification\n",
    "from matplotlib import pyplot\n",
    "from numpy import where\n",
    "from imblearn.over_sampling import SMOTE\n",
    "import feat_trans"
   ]
  },
  {
   "cell_type": "markdown",
   "metadata": {},
   "source": [
    "## Reading in file"
   ]
  },
  {
   "cell_type": "code",
<<<<<<< HEAD
   "execution_count": 159,
=======
<<<<<<< HEAD
<<<<<<< HEAD
   "execution_count": 2,
=======
   "execution_count": 7,
>>>>>>> ae2f8bb76949a0b1d802326d984731d81a97405a
=======
   "execution_count": 23,
>>>>>>> bf55489a6604d699e9700eb45588a20b6d9a32b8
>>>>>>> 13b4ffbe9413ae5fd5239bce0bc72c313d1f5464
   "metadata": {},
   "outputs": [],
   "source": [
    "# Read files to pandas dataframes\n",
    "train = pd.read_csv('data/Train.csv')\n",
    "test = pd.read_csv('data/Test.csv')\n",
    "sample_submission = pd.read_csv('data/SampleSubmission.csv')"
   ]
  },
  {
   "cell_type": "markdown",
   "metadata": {},
   "source": [
    "## Manipulating data and pre-processing"
   ]
  },
  {
   "cell_type": "code",
<<<<<<< HEAD
   "execution_count": 161,
=======
<<<<<<< HEAD
<<<<<<< HEAD
   "execution_count": 3,
=======
   "execution_count": null,
>>>>>>> ae2f8bb76949a0b1d802326d984731d81a97405a
=======
   "execution_count": 24,
>>>>>>> bf55489a6604d699e9700eb45588a20b6d9a32b8
>>>>>>> 13b4ffbe9413ae5fd5239bce0bc72c313d1f5464
   "metadata": {},
   "outputs": [],
   "source": [
    "main_cols = train.columns.difference(['Sample_ID', 'Label'])\n",
    "X_train, X_test, y_train, y_test= train_test_split(train[main_cols], train.Label, test_size=0.3, random_state=2022)\n",
    "X_train = X_train.append(y_train)\n",
    "# outlierAttributes = all_square_cols(\"elevation\") + all_square_cols(\"slope\") + all_square_cols(\"placurv\") + all_square_cols(\"procurv\") + all_square_cols(\"lsfactor\")\n",
    "# X = train[outlierAttributes]\n",
    "\n",
    "# train = train[(np.abs(stats.zscore(X)) < 3).all(axis=1)]\n",
    "# X, y = SMOTE().fit_resample(train[main_cols], train.Label)"
   ]
  },
  {
   "cell_type": "markdown",
   "metadata": {},
   "source": [
    "# Actually training the model on the data\n",
    "## Defining our models"
   ]
  },
  {
   "cell_type": "code",
   "execution_count": 112,
   "metadata": {},
   "outputs": [],
   "source": [
    "estimators = [\n",
    "    ('rf', RandomForestClassifier(n_estimators=500, random_state=42)),\n",
    "    ('svr', make_pipeline(StandardScaler(),\n",
    "                          SVC(gamma='auto', random_state=42)))\n",
    "]\n",
    "# Train model\n",
    "model = StackingClassifier(\n",
    "    estimators=estimators, final_estimator=LogisticRegression()\n",
    ")"
   ]
  },
  {
   "cell_type": "markdown",
   "metadata": {},
   "source": [
    "## Training the model"
   ]
  },
  {
   "cell_type": "code",
   "execution_count": 113,
   "metadata": {},
   "outputs": [
    {
     "name": "stdout",
     "output_type": "stream",
     "text": [
      "RandomForest F1 score on the X_test is: 0.8970116078043961\n",
      "\n"
     ]
    }
   ],
   "source": [
    "model.fit(X_train, y_train)\n",
    "\n",
    "# Make predictions\n",
    "y_pred = model.predict(X_test)\n",
    "\n",
    "# Check the auc score of the model\n",
    "print(f'RandomForest F1 score on the X_test is: {f1_score(y_test, y_pred)}\\n')"
   ]
  },
  {
   "cell_type": "markdown",
   "metadata": {},
   "source": [
    "outlier no SMOT: 0.678304239401496\n",
    "\n",
    "outlier then SMOT: 0.8970116078043961\n",
    "\n",
    "SMOD then outlier:"
   ]
  },
  {
   "cell_type": "markdown",
   "metadata": {},
   "source": [
    "## Outputting to file"
   ]
  },
  {
   "cell_type": "code",
   "execution_count": 114,
   "metadata": {},
   "outputs": [],
   "source": [
    "test_df = test[main_cols]\n",
    "predictions = model.predict(test_df)\n",
    "\n",
    "# Create a submission file\n",
    "sub_file = pd.DataFrame({'Sample_ID': test.Sample_ID, 'Label': predictions})\n",
    "sub_file.to_csv('Baseline.csv', index = False)"
   ]
  },
  {
   "cell_type": "markdown",
   "metadata": {},
   "source": [
    "## Analytics"
   ]
  },
  {
   "cell_type": "code",
   "execution_count": 115,
   "metadata": {},
   "outputs": [
    {
     "data": {
      "image/png": "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",
      "text/plain": [
       "<Figure size 1080x504 with 2 Axes>"
      ]
     },
     "metadata": {
      "needs_background": "light"
     },
     "output_type": "display_data"
    }
   ],
   "source": [
    "cm = confusion_matrix(y_test, y_pred, labels=model.classes_)\n",
    "disp = ConfusionMatrixDisplay(confusion_matrix=cm, display_labels=model.classes_)\n",
    "fig, ax = plt.subplots(figsize=(15,7))\n",
    "disp.plot(ax=ax)\n",
    "plt.show()"
   ]
  }
 ],
 "metadata": {
  "interpreter": {
   "hash": "a46a24eef07e419a4e8ddac6f1d6555c6a1bf8ed000cde67c2910076b15c4eb6"
  },
  "kernelspec": {
   "display_name": "Python 3.9.7 ('myenv')",
   "language": "python",
   "name": "python3"
  },
  "language_info": {
   "codemirror_mode": {
    "name": "ipython",
    "version": 3
   },
   "file_extension": ".py",
   "mimetype": "text/x-python",
   "name": "python",
   "nbconvert_exporter": "python",
   "pygments_lexer": "ipython3",
   "version": "3.9.7"
  },
  "orig_nbformat": 4
 },
 "nbformat": 4,
 "nbformat_minor": 2
}
